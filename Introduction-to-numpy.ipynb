{
 "cells": [
  {
   "cell_type": "code",
   "execution_count": 1,
   "id": "b919d144-95fe-4b24-aec0-c808d3385b8c",
   "metadata": {},
   "outputs": [],
   "source": [
    "import numpy as np"
   ]
  },
  {
   "cell_type": "markdown",
   "id": "f4692bae-e659-4fc4-9dd8-486b50969a7a",
   "metadata": {},
   "source": [
    "## datatypes and attributes"
   ]
  },
  {
   "cell_type": "markdown",
   "id": "b7a88eaa-7644-4e9d-b472-e87cf68e9b20",
   "metadata": {},
   "source": [
    "Numpymain datatype is ndarray ie n dimensional array"
   ]
  },
  {
   "cell_type": "code",
   "execution_count": 2,
   "id": "5f5b881e-6ef8-4880-ba3a-c3e6a1513158",
   "metadata": {},
   "outputs": [
    {
     "data": {
      "text/plain": [
       "array([1, 2, 3])"
      ]
     },
     "execution_count": 2,
     "metadata": {},
     "output_type": "execute_result"
    }
   ],
   "source": [
    "a1=np.array([1,2,3])\n",
    "a1"
   ]
  },
  {
   "cell_type": "code",
   "execution_count": 3,
   "id": "d407c225-98dc-4a14-b4e4-98f27ca68c25",
   "metadata": {},
   "outputs": [
    {
     "data": {
      "text/plain": [
       "numpy.ndarray"
      ]
     },
     "execution_count": 3,
     "metadata": {},
     "output_type": "execute_result"
    }
   ],
   "source": [
    "type(a1)"
   ]
  },
  {
   "cell_type": "code",
   "execution_count": 4,
   "id": "83078c3c-16c4-41e1-b717-5f109f477fb1",
   "metadata": {},
   "outputs": [],
   "source": [
    "a2=np.array([[1,2,3],[4,5,6]])\n",
    "a3=np.array([[[3,4,5],[5,6,7],[9,7,6]],[[67,87,98],[56,45,34],[7,87,9]]])"
   ]
  },
  {
   "cell_type": "code",
   "execution_count": 5,
   "id": "f151c0c6-7223-42ba-9626-0e3ad4a4af48",
   "metadata": {},
   "outputs": [
    {
     "data": {
      "text/plain": [
       "numpy.ndarray"
      ]
     },
     "execution_count": 5,
     "metadata": {},
     "output_type": "execute_result"
    }
   ],
   "source": [
    "type(a3)"
   ]
  },
  {
   "cell_type": "code",
   "execution_count": 6,
   "id": "0468955d-2c99-42b4-ba65-3eb8d82fcd93",
   "metadata": {},
   "outputs": [
    {
     "data": {
      "text/plain": [
       "(2, 3)"
      ]
     },
     "execution_count": 6,
     "metadata": {},
     "output_type": "execute_result"
    }
   ],
   "source": [
    "a2.shape"
   ]
  },
  {
   "cell_type": "code",
   "execution_count": 7,
   "id": "183e5d1f-27ea-4d1f-952b-bc58827c4329",
   "metadata": {},
   "outputs": [
    {
     "data": {
      "text/plain": [
       "(2, 3, 3)"
      ]
     },
     "execution_count": 7,
     "metadata": {},
     "output_type": "execute_result"
    }
   ],
   "source": [
    "a3.shape"
   ]
  },
  {
   "cell_type": "code",
   "execution_count": 8,
   "id": "cda57c8c-17e2-4c5e-a9ed-708487a73ccd",
   "metadata": {},
   "outputs": [
    {
     "data": {
      "text/plain": [
       "(1, 2, 3)"
      ]
     },
     "execution_count": 8,
     "metadata": {},
     "output_type": "execute_result"
    }
   ],
   "source": [
    "a1.ndim, a2.ndim, a3.ndim"
   ]
  },
  {
   "cell_type": "code",
   "execution_count": 9,
   "id": "e0400cf0-9e83-4bb3-96e2-e7771046f8bd",
   "metadata": {},
   "outputs": [
    {
     "data": {
      "text/plain": [
       "(dtype('int32'), dtype('int32'), dtype('int32'))"
      ]
     },
     "execution_count": 9,
     "metadata": {},
     "output_type": "execute_result"
    }
   ],
   "source": [
    "a1.dtype ,a2.dtype, a3.dtype"
   ]
  },
  {
   "cell_type": "code",
   "execution_count": 10,
   "id": "2fcad6b3-deee-4ad0-be30-e7da962c99ee",
   "metadata": {},
   "outputs": [
    {
     "data": {
      "text/plain": [
       "(3, 6, 18)"
      ]
     },
     "execution_count": 10,
     "metadata": {},
     "output_type": "execute_result"
    }
   ],
   "source": [
    "a1.size ,a2.size, a3.size #ie number iof elements presen"
   ]
  },
  {
   "cell_type": "code",
   "execution_count": 11,
   "id": "2e78b817-330f-4ddc-acc0-95dea0fb401b",
   "metadata": {},
   "outputs": [
    {
     "data": {
      "text/plain": [
       "(numpy.ndarray, numpy.ndarray, numpy.ndarray)"
      ]
     },
     "execution_count": 11,
     "metadata": {},
     "output_type": "execute_result"
    }
   ],
   "source": [
    "type(a1), type(a2), type(a3)"
   ]
  },
  {
   "cell_type": "markdown",
   "id": "14f0e990-f89e-4ae9-a503-0d115da4fa0b",
   "metadata": {},
   "source": [
    "## create a datafrme using numpy array"
   ]
  },
  {
   "cell_type": "code",
   "execution_count": 12,
   "id": "443e96e5-5682-4284-a42d-02f9175efbed",
   "metadata": {},
   "outputs": [],
   "source": [
    "import pandas as pd\n",
    "\n",
    "df=pd.DataFrame(a2)\n",
    "\n"
   ]
  },
  {
   "cell_type": "code",
   "execution_count": 13,
   "id": "70df94a4-336b-451c-af9e-e62d50c77162",
   "metadata": {},
   "outputs": [
    {
     "data": {
      "text/html": [
       "<div>\n",
       "<style scoped>\n",
       "    .dataframe tbody tr th:only-of-type {\n",
       "        vertical-align: middle;\n",
       "    }\n",
       "\n",
       "    .dataframe tbody tr th {\n",
       "        vertical-align: top;\n",
       "    }\n",
       "\n",
       "    .dataframe thead th {\n",
       "        text-align: right;\n",
       "    }\n",
       "</style>\n",
       "<table border=\"1\" class=\"dataframe\">\n",
       "  <thead>\n",
       "    <tr style=\"text-align: right;\">\n",
       "      <th></th>\n",
       "      <th>0</th>\n",
       "      <th>1</th>\n",
       "      <th>2</th>\n",
       "    </tr>\n",
       "  </thead>\n",
       "  <tbody>\n",
       "    <tr>\n",
       "      <th>0</th>\n",
       "      <td>1</td>\n",
       "      <td>2</td>\n",
       "      <td>3</td>\n",
       "    </tr>\n",
       "    <tr>\n",
       "      <th>1</th>\n",
       "      <td>4</td>\n",
       "      <td>5</td>\n",
       "      <td>6</td>\n",
       "    </tr>\n",
       "  </tbody>\n",
       "</table>\n",
       "</div>"
      ],
      "text/plain": [
       "   0  1  2\n",
       "0  1  2  3\n",
       "1  4  5  6"
      ]
     },
     "execution_count": 13,
     "metadata": {},
     "output_type": "execute_result"
    }
   ],
   "source": [
    "df"
   ]
  },
  {
   "cell_type": "markdown",
   "id": "5a12f28c-8003-4be0-9f78-a47b9f6ca814",
   "metadata": {},
   "source": [
    "## 2. ceating arrays"
   ]
  },
  {
   "cell_type": "code",
   "execution_count": 14,
   "id": "d4aeecbd-fe8e-4667-9cb9-8dc47e02f9b1",
   "metadata": {},
   "outputs": [
    {
     "data": {
      "text/plain": [
       "array([56, 45, 34])"
      ]
     },
     "execution_count": 14,
     "metadata": {},
     "output_type": "execute_result"
    }
   ],
   "source": [
    "sample_array=np.array([56,45,34])\n",
    "sample_array"
   ]
  },
  {
   "cell_type": "code",
   "execution_count": 15,
   "id": "2445ff94-8333-428c-b70a-fd72d3f210b0",
   "metadata": {},
   "outputs": [
    {
     "data": {
      "text/plain": [
       "dtype('int32')"
      ]
     },
     "execution_count": 15,
     "metadata": {},
     "output_type": "execute_result"
    }
   ],
   "source": [
    "sample_array.dtype"
   ]
  },
  {
   "cell_type": "code",
   "execution_count": 16,
   "id": "83c95fdc-0275-4eca-9462-8f6e990a0a3b",
   "metadata": {},
   "outputs": [],
   "source": [
    "ones=np.ones((2,3))"
   ]
  },
  {
   "cell_type": "code",
   "execution_count": 17,
   "id": "81a9a429-13f2-444a-bfe4-371a3dd33944",
   "metadata": {},
   "outputs": [
    {
     "data": {
      "text/plain": [
       "array([[1., 1., 1.],\n",
       "       [1., 1., 1.]])"
      ]
     },
     "execution_count": 17,
     "metadata": {},
     "output_type": "execute_result"
    }
   ],
   "source": [
    "ones"
   ]
  },
  {
   "cell_type": "code",
   "execution_count": 18,
   "id": "b1ee4ac9-e5ae-4581-ad06-7dde59c7ada0",
   "metadata": {},
   "outputs": [
    {
     "data": {
      "text/plain": [
       "dtype('float64')"
      ]
     },
     "execution_count": 18,
     "metadata": {},
     "output_type": "execute_result"
    }
   ],
   "source": [
    "ones.dtype"
   ]
  },
  {
   "cell_type": "code",
   "execution_count": 19,
   "id": "71fcfec2-cff6-4696-a58d-7c5c258f12f8",
   "metadata": {},
   "outputs": [
    {
     "data": {
      "text/plain": [
       "numpy.ndarray"
      ]
     },
     "execution_count": 19,
     "metadata": {},
     "output_type": "execute_result"
    }
   ],
   "source": [
    "type(ones)"
   ]
  },
  {
   "cell_type": "code",
   "execution_count": 20,
   "id": "37976765-9c81-4ba9-a0ff-5650af92afdf",
   "metadata": {},
   "outputs": [],
   "source": [
    "zeros=np.zeros((3,2))"
   ]
  },
  {
   "cell_type": "code",
   "execution_count": 21,
   "id": "d84d97e8-bb14-4be7-9cb4-fdbfcc649120",
   "metadata": {},
   "outputs": [
    {
     "data": {
      "text/plain": [
       "array([[0., 0.],\n",
       "       [0., 0.],\n",
       "       [0., 0.]])"
      ]
     },
     "execution_count": 21,
     "metadata": {},
     "output_type": "execute_result"
    }
   ],
   "source": [
    "zeros"
   ]
  },
  {
   "cell_type": "code",
   "execution_count": 22,
   "id": "a33d79ac-6558-4a0d-bd3d-18cf3c82605c",
   "metadata": {},
   "outputs": [],
   "source": [
    "range_array=np.arange(0,10,2)"
   ]
  },
  {
   "cell_type": "code",
   "execution_count": 23,
   "id": "c6ae0e21-97f1-4774-a8ee-f6c540c79391",
   "metadata": {},
   "outputs": [
    {
     "data": {
      "text/plain": [
       "array([0, 2, 4, 6, 8])"
      ]
     },
     "execution_count": 23,
     "metadata": {},
     "output_type": "execute_result"
    }
   ],
   "source": [
    "range_array"
   ]
  },
  {
   "cell_type": "code",
   "execution_count": 24,
   "id": "424a1d04-f6a8-461a-bff4-00f74122e252",
   "metadata": {},
   "outputs": [],
   "source": [
    "random_array=np.random.randint(0,10,size=(3,4))"
   ]
  },
  {
   "cell_type": "code",
   "execution_count": 25,
   "id": "204c1b69-3097-4bb6-aa3c-07771f58d287",
   "metadata": {},
   "outputs": [
    {
     "data": {
      "text/plain": [
       "array([[0, 4, 9, 2],\n",
       "       [9, 3, 2, 5],\n",
       "       [1, 7, 3, 1]])"
      ]
     },
     "execution_count": 25,
     "metadata": {},
     "output_type": "execute_result"
    }
   ],
   "source": [
    "random_array"
   ]
  },
  {
   "cell_type": "code",
   "execution_count": 26,
   "id": "7de68a7b-bde2-4964-8cae-34b541b749d1",
   "metadata": {},
   "outputs": [
    {
     "data": {
      "text/plain": [
       "12"
      ]
     },
     "execution_count": 26,
     "metadata": {},
     "output_type": "execute_result"
    }
   ],
   "source": [
    "random_array.size"
   ]
  },
  {
   "cell_type": "code",
   "execution_count": 27,
   "id": "c147782e-b223-4408-adfb-3c1bbcde8a3a",
   "metadata": {},
   "outputs": [
    {
     "data": {
      "text/plain": [
       "(3, 4)"
      ]
     },
     "execution_count": 27,
     "metadata": {},
     "output_type": "execute_result"
    }
   ],
   "source": [
    "random_array.shape"
   ]
  },
  {
   "cell_type": "code",
   "execution_count": 28,
   "id": "30ae38c6-6567-4cac-87ce-d8b3952bb7d4",
   "metadata": {},
   "outputs": [],
   "source": [
    "random_array2=np.random.random((5,3))   ##[0.0, 1.0)"
   ]
  },
  {
   "cell_type": "code",
   "execution_count": 29,
   "id": "0c093bfe-7c26-4f49-825d-b9a751522b1a",
   "metadata": {},
   "outputs": [
    {
     "data": {
      "text/plain": [
       "array([[0.78029945, 0.84156372, 0.74365835],\n",
       "       [0.98702543, 0.44845991, 0.53583621],\n",
       "       [0.26916559, 0.08293838, 0.4636193 ],\n",
       "       [0.30549411, 0.47020337, 0.07771882],\n",
       "       [0.22784188, 0.14030251, 0.51126545]])"
      ]
     },
     "execution_count": 29,
     "metadata": {},
     "output_type": "execute_result"
    }
   ],
   "source": [
    "random_array2"
   ]
  },
  {
   "cell_type": "code",
   "execution_count": 30,
   "id": "184e1f2b-32ae-42c1-8f9a-626d34c11e66",
   "metadata": {},
   "outputs": [
    {
     "data": {
      "text/plain": [
       "(5, 3)"
      ]
     },
     "execution_count": 30,
     "metadata": {},
     "output_type": "execute_result"
    }
   ],
   "source": [
    "random_array2.shape"
   ]
  },
  {
   "cell_type": "code",
   "execution_count": 31,
   "id": "a6bf1e96-702e-4bbe-a574-27002ff355bb",
   "metadata": {},
   "outputs": [],
   "source": [
    "random_array3=np.random.rand(5,6)  #[0, 1)"
   ]
  },
  {
   "cell_type": "code",
   "execution_count": 32,
   "id": "26167ab9-9e78-4060-a047-cae38b686a9d",
   "metadata": {},
   "outputs": [
    {
     "data": {
      "text/plain": [
       "array([[0.85836012, 0.89629092, 0.93673681, 0.61988881, 0.69931493,\n",
       "        0.92246879],\n",
       "       [0.53891694, 0.11239982, 0.80717974, 0.02844092, 0.80063593,\n",
       "        0.46029982],\n",
       "       [0.99867985, 0.52067401, 0.43151741, 0.57657099, 0.25586259,\n",
       "        0.22484067],\n",
       "       [0.06152967, 0.60165313, 0.11739527, 0.71248226, 0.3614323 ,\n",
       "        0.78478046],\n",
       "       [0.2090323 , 0.26796285, 0.05901709, 0.26014865, 0.03702509,\n",
       "        0.92907137]])"
      ]
     },
     "execution_count": 32,
     "metadata": {},
     "output_type": "execute_result"
    }
   ],
   "source": [
    "random_array3"
   ]
  },
  {
   "cell_type": "code",
   "execution_count": 33,
   "id": "960be4e3-56db-497f-92d1-22f9a2c57572",
   "metadata": {},
   "outputs": [],
   "source": [
    "#np.random.seed()"
   ]
  },
  {
   "cell_type": "code",
   "execution_count": 34,
   "id": "93db3d26-4c89-4156-bfe6-ec833561f1fb",
   "metadata": {},
   "outputs": [
    {
     "data": {
      "text/plain": [
       "array([[5, 8, 9],\n",
       "       [5, 0, 0],\n",
       "       [1, 7, 6],\n",
       "       [9, 2, 4],\n",
       "       [5, 2, 4]])"
      ]
     },
     "execution_count": 34,
     "metadata": {},
     "output_type": "execute_result"
    }
   ],
   "source": [
    "np.random.seed(seed=1)\n",
    "randon_array4=np.random.randint(10,size=(5,3))\n",
    "randon_array4"
   ]
  },
  {
   "cell_type": "code",
   "execution_count": 35,
   "id": "d26bbf05-f2b7-47de-b971-60beccba0e89",
   "metadata": {},
   "outputs": [
    {
     "data": {
      "text/plain": [
       "array([[0, 9, 0],\n",
       "       [2, 7, 4],\n",
       "       [4, 0, 9],\n",
       "       [6, 5, 5],\n",
       "       [0, 0, 2]])"
      ]
     },
     "execution_count": 35,
     "metadata": {},
     "output_type": "execute_result"
    }
   ],
   "source": [
    "np.random.seed()\n",
    "randon_array4=np.random.randint(10,size=(5,3))\n",
    "randon_array4"
   ]
  },
  {
   "cell_type": "code",
   "execution_count": 36,
   "id": "2a1000e0-1094-4722-a988-cad72ea49705",
   "metadata": {},
   "outputs": [],
   "source": [
    "import numpy as np\n",
    "\n",
    "np.random.seed(seed=1)\n",
    "random_numbers_1 = np.random.rand(5)\n",
    "\n",
    "np.random.seed(seed=1)\n",
    "random_numbers_2 = np.random.rand(6)\n"
   ]
  },
  {
   "cell_type": "code",
   "execution_count": 37,
   "id": "90b800bd-c113-4806-91d2-229438e59946",
   "metadata": {},
   "outputs": [
    {
     "data": {
      "text/plain": [
       "array([4.17022005e-01, 7.20324493e-01, 1.14374817e-04, 3.02332573e-01,\n",
       "       1.46755891e-01, 9.23385948e-02])"
      ]
     },
     "execution_count": 37,
     "metadata": {},
     "output_type": "execute_result"
    }
   ],
   "source": [
    "random_numbers_2"
   ]
  },
  {
   "cell_type": "code",
   "execution_count": 38,
   "id": "b8c4c9f8-1865-4623-9cd3-09717793f1c9",
   "metadata": {},
   "outputs": [
    {
     "data": {
      "text/plain": [
       "array([4.17022005e-01, 7.20324493e-01, 1.14374817e-04, 3.02332573e-01,\n",
       "       1.46755891e-01])"
      ]
     },
     "execution_count": 38,
     "metadata": {},
     "output_type": "execute_result"
    }
   ],
   "source": [
    "random_numbers_1"
   ]
  },
  {
   "cell_type": "code",
   "execution_count": 39,
   "id": "eefb8485-0d26-4547-bfff-8e21e99098a0",
   "metadata": {},
   "outputs": [
    {
     "data": {
      "text/plain": [
       "array([[9, 3, 4],\n",
       "       [0, 9, 1],\n",
       "       [9, 1, 4],\n",
       "       [1, 8, 2],\n",
       "       [4, 2, 5]])"
      ]
     },
     "execution_count": 39,
     "metadata": {},
     "output_type": "execute_result"
    }
   ],
   "source": [
    "np.random.seed(seed=6)\n",
    "randon_array4=np.random.randint(10,size=(5,3))\n",
    "randon_array4"
   ]
  },
  {
   "cell_type": "markdown",
   "id": "61b2ba11-2b50-4603-bb2d-1eaa752f3131",
   "metadata": {},
   "source": [
    "## viewing random numbers "
   ]
  },
  {
   "cell_type": "code",
   "execution_count": 40,
   "id": "f2f53f59-0eb2-440d-9356-bda39fedd741",
   "metadata": {},
   "outputs": [
    {
     "data": {
      "text/plain": [
       "array([0, 1, 2, 3, 4, 5, 8, 9])"
      ]
     },
     "execution_count": 40,
     "metadata": {},
     "output_type": "execute_result"
    }
   ],
   "source": [
    "np.unique(randon_array4)"
   ]
  },
  {
   "cell_type": "code",
   "execution_count": 41,
   "id": "f0fbf3ac-fdee-41b9-a79f-615d57fb0bcb",
   "metadata": {},
   "outputs": [
    {
     "data": {
      "text/plain": [
       "array([1, 2, 3])"
      ]
     },
     "execution_count": 41,
     "metadata": {},
     "output_type": "execute_result"
    }
   ],
   "source": [
    "a1"
   ]
  },
  {
   "cell_type": "code",
   "execution_count": 42,
   "id": "7d1ce9e4-c8f2-4c39-83f9-a03b6ca9c567",
   "metadata": {},
   "outputs": [
    {
     "data": {
      "text/plain": [
       "2"
      ]
     },
     "execution_count": 42,
     "metadata": {},
     "output_type": "execute_result"
    }
   ],
   "source": [
    "a1[1]"
   ]
  },
  {
   "cell_type": "code",
   "execution_count": 43,
   "id": "0b6f130b-6eb4-4af4-81b7-c78e885942e0",
   "metadata": {},
   "outputs": [
    {
     "data": {
      "text/plain": [
       "array([[1, 2, 3],\n",
       "       [4, 5, 6]])"
      ]
     },
     "execution_count": 43,
     "metadata": {},
     "output_type": "execute_result"
    }
   ],
   "source": [
    "a2"
   ]
  },
  {
   "cell_type": "code",
   "execution_count": 44,
   "id": "b85194a7-0207-43e4-a6ed-57963be09b57",
   "metadata": {},
   "outputs": [
    {
     "data": {
      "text/plain": [
       "array([1, 2, 3])"
      ]
     },
     "execution_count": 44,
     "metadata": {},
     "output_type": "execute_result"
    }
   ],
   "source": [
    "a2[0]"
   ]
  },
  {
   "cell_type": "code",
   "execution_count": 45,
   "id": "06b4b2a7-9c13-4b39-aa77-81350d3233e0",
   "metadata": {},
   "outputs": [
    {
     "data": {
      "text/plain": [
       "(2, 3, 3)"
      ]
     },
     "execution_count": 45,
     "metadata": {},
     "output_type": "execute_result"
    }
   ],
   "source": [
    "a3.shape"
   ]
  },
  {
   "cell_type": "code",
   "execution_count": 46,
   "id": "6f04a318-05d9-4c47-a6a9-3fb5efeec6a6",
   "metadata": {},
   "outputs": [
    {
     "data": {
      "text/plain": [
       "array([[[ 3,  4,  5],\n",
       "        [ 5,  6,  7],\n",
       "        [ 9,  7,  6]],\n",
       "\n",
       "       [[67, 87, 98],\n",
       "        [56, 45, 34],\n",
       "        [ 7, 87,  9]]])"
      ]
     },
     "execution_count": 46,
     "metadata": {},
     "output_type": "execute_result"
    }
   ],
   "source": [
    "a3"
   ]
  },
  {
   "cell_type": "code",
   "execution_count": 47,
   "id": "8f1dbcb5-95f7-4065-87f8-69aa1ee2beb3",
   "metadata": {},
   "outputs": [
    {
     "data": {
      "text/plain": [
       "array([[3, 4, 5],\n",
       "       [5, 6, 7],\n",
       "       [9, 7, 6]])"
      ]
     },
     "execution_count": 47,
     "metadata": {},
     "output_type": "execute_result"
    }
   ],
   "source": [
    "a3[0]"
   ]
  },
  {
   "cell_type": "code",
   "execution_count": 48,
   "id": "af618e99-561f-4f73-963e-db84c15b9c9a",
   "metadata": {},
   "outputs": [
    {
     "data": {
      "text/plain": [
       "array([[[ 3,  4,  5],\n",
       "        [ 5,  6,  7],\n",
       "        [ 9,  7,  6]],\n",
       "\n",
       "       [[67, 87, 98],\n",
       "        [56, 45, 34],\n",
       "        [ 7, 87,  9]]])"
      ]
     },
     "execution_count": 48,
     "metadata": {},
     "output_type": "execute_result"
    }
   ],
   "source": [
    "a3"
   ]
  },
  {
   "cell_type": "code",
   "execution_count": 49,
   "id": "0d407881-7e67-435f-a786-8cb676676d8e",
   "metadata": {},
   "outputs": [
    {
     "data": {
      "text/plain": [
       "array([[[ 6,  7],\n",
       "        [ 7,  6]],\n",
       "\n",
       "       [[45, 34],\n",
       "        [87,  9]]])"
      ]
     },
     "execution_count": 49,
     "metadata": {},
     "output_type": "execute_result"
    }
   ],
   "source": [
    "a3[:2,1:,1:]"
   ]
  },
  {
   "cell_type": "code",
   "execution_count": 50,
   "id": "5d4bcf1b-73c4-4d2d-a140-e830522a7edf",
   "metadata": {},
   "outputs": [
    {
     "data": {
      "text/plain": [
       "array([[[ 5,  6],\n",
       "        [ 9,  7]],\n",
       "\n",
       "       [[56, 45],\n",
       "        [ 7, 87]]])"
      ]
     },
     "execution_count": 50,
     "metadata": {},
     "output_type": "execute_result"
    }
   ],
   "source": [
    "a3[:2,1:,:2]"
   ]
  },
  {
   "cell_type": "markdown",
   "id": "569b7c16-458a-41d1-b651-664b85e39e65",
   "metadata": {},
   "source": [
    "\n",
    "\"\"\"It contains 2 blocks.\n",
    "Each block consists of 3 matrices.\n",
    "Each matrix has 4 rows.\n",
    "Each row has 5 elements\"\"\""
   ]
  },
  {
   "cell_type": "code",
   "execution_count": 51,
   "id": "1f42a9f3-4bd7-48bf-8057-846661d93cce",
   "metadata": {},
   "outputs": [
    {
     "data": {
      "text/plain": [
       "array([[[[9, 6, 2, 5, 5],\n",
       "         [1, 4, 5, 0, 2],\n",
       "         [2, 3, 5, 9, 5],\n",
       "         [2, 7, 8, 5, 6]],\n",
       "\n",
       "        [[3, 5, 1, 2, 3],\n",
       "         [6, 9, 9, 8, 0],\n",
       "         [3, 7, 4, 8, 1],\n",
       "         [2, 4, 1, 5, 5]],\n",
       "\n",
       "        [[6, 1, 9, 0, 5],\n",
       "         [8, 9, 1, 2, 2],\n",
       "         [9, 5, 4, 1, 6],\n",
       "         [3, 1, 4, 9, 8]]],\n",
       "\n",
       "\n",
       "       [[[4, 6, 2, 9, 6],\n",
       "         [2, 5, 2, 7, 5],\n",
       "         [1, 1, 7, 5, 4],\n",
       "         [2, 8, 8, 7, 8]],\n",
       "\n",
       "        [[0, 8, 9, 2, 0],\n",
       "         [7, 6, 0, 7, 5],\n",
       "         [1, 8, 5, 9, 6],\n",
       "         [3, 7, 7, 5, 3]],\n",
       "\n",
       "        [[8, 7, 3, 5, 9],\n",
       "         [3, 8, 0, 7, 7],\n",
       "         [0, 3, 5, 3, 2],\n",
       "         [3, 4, 9, 0, 8]]]])"
      ]
     },
     "execution_count": 51,
     "metadata": {},
     "output_type": "execute_result"
    }
   ],
   "source": [
    "a4=np.random.randint(10,size=(2,3,4,5))\n",
    "a4"
   ]
  },
  {
   "cell_type": "code",
   "execution_count": 52,
   "id": "f04ab54e-93da-412a-a384-1508c2ebc0b7",
   "metadata": {},
   "outputs": [
    {
     "data": {
      "text/plain": [
       "(2, 3, 4, 5)"
      ]
     },
     "execution_count": 52,
     "metadata": {},
     "output_type": "execute_result"
    }
   ],
   "source": [
    "a4.shape"
   ]
  },
  {
   "cell_type": "code",
   "execution_count": 53,
   "id": "f06354ed-446a-4192-97a5-062772a4a583",
   "metadata": {},
   "outputs": [
    {
     "data": {
      "text/plain": [
       "4"
      ]
     },
     "execution_count": 53,
     "metadata": {},
     "output_type": "execute_result"
    }
   ],
   "source": [
    "a4.ndim"
   ]
  },
  {
   "cell_type": "code",
   "execution_count": 54,
   "id": "d8e826c5-26ef-41cf-a2ba-3e55d5f15173",
   "metadata": {},
   "outputs": [],
   "source": [
    "#get first 4 numbers of inner most arrays"
   ]
  },
  {
   "cell_type": "code",
   "execution_count": 55,
   "id": "7f74887a-e914-4f45-933d-bca9ba4445cd",
   "metadata": {},
   "outputs": [
    {
     "data": {
      "text/plain": [
       "array([[[[9, 6, 2, 5],\n",
       "         [1, 4, 5, 0],\n",
       "         [2, 3, 5, 9],\n",
       "         [2, 7, 8, 5]],\n",
       "\n",
       "        [[3, 5, 1, 2],\n",
       "         [6, 9, 9, 8],\n",
       "         [3, 7, 4, 8],\n",
       "         [2, 4, 1, 5]],\n",
       "\n",
       "        [[6, 1, 9, 0],\n",
       "         [8, 9, 1, 2],\n",
       "         [9, 5, 4, 1],\n",
       "         [3, 1, 4, 9]]],\n",
       "\n",
       "\n",
       "       [[[4, 6, 2, 9],\n",
       "         [2, 5, 2, 7],\n",
       "         [1, 1, 7, 5],\n",
       "         [2, 8, 8, 7]],\n",
       "\n",
       "        [[0, 8, 9, 2],\n",
       "         [7, 6, 0, 7],\n",
       "         [1, 8, 5, 9],\n",
       "         [3, 7, 7, 5]],\n",
       "\n",
       "        [[8, 7, 3, 5],\n",
       "         [3, 8, 0, 7],\n",
       "         [0, 3, 5, 3],\n",
       "         [3, 4, 9, 0]]]])"
      ]
     },
     "execution_count": 55,
     "metadata": {},
     "output_type": "execute_result"
    }
   ],
   "source": [
    "a4[:,:,:,:4]"
   ]
  },
  {
   "cell_type": "code",
   "execution_count": 56,
   "id": "9c4d24f4-8bcb-4f7d-a200-541d732c3391",
   "metadata": {},
   "outputs": [
    {
     "data": {
      "text/plain": [
       "array([[[[9, 6],\n",
       "         [1, 4]],\n",
       "\n",
       "        [[3, 5],\n",
       "         [6, 9]],\n",
       "\n",
       "        [[6, 1],\n",
       "         [8, 9]]],\n",
       "\n",
       "\n",
       "       [[[4, 6],\n",
       "         [2, 5]],\n",
       "\n",
       "        [[0, 8],\n",
       "         [7, 6]],\n",
       "\n",
       "        [[8, 7],\n",
       "         [3, 8]]]])"
      ]
     },
     "execution_count": 56,
     "metadata": {},
     "output_type": "execute_result"
    }
   ],
   "source": [
    "a4[:,:,:2,:2]"
   ]
  },
  {
   "cell_type": "code",
   "execution_count": 57,
   "id": "2e90424d-462e-4dda-9083-60324eee3d27",
   "metadata": {},
   "outputs": [
    {
     "data": {
      "text/plain": [
       "array([[[[3, 5],\n",
       "         [6, 9]]],\n",
       "\n",
       "\n",
       "       [[[0, 8],\n",
       "         [7, 6]]]])"
      ]
     },
     "execution_count": 57,
     "metadata": {},
     "output_type": "execute_result"
    }
   ],
   "source": [
    "a4[:,1:2,:2,:2]"
   ]
  },
  {
   "cell_type": "markdown",
   "id": "244255a6-1048-4e56-95c3-5042dd0f5cba",
   "metadata": {},
   "source": [
    "## 4.manipulating and comparing arrays"
   ]
  },
  {
   "cell_type": "markdown",
   "id": "e9e58d85-6882-48f2-afaf-82115827f4e7",
   "metadata": {},
   "source": [
    "## 1. Arithmetic"
   ]
  },
  {
   "cell_type": "code",
   "execution_count": 58,
   "id": "20d0b2a6-796f-43d5-8d72-a798f951a634",
   "metadata": {},
   "outputs": [
    {
     "data": {
      "text/plain": [
       "array([[[ 3,  4,  5],\n",
       "        [ 5,  6,  7],\n",
       "        [ 9,  7,  6]],\n",
       "\n",
       "       [[67, 87, 98],\n",
       "        [56, 45, 34],\n",
       "        [ 7, 87,  9]]])"
      ]
     },
     "execution_count": 58,
     "metadata": {},
     "output_type": "execute_result"
    }
   ],
   "source": [
    "a3"
   ]
  },
  {
   "cell_type": "code",
   "execution_count": 59,
   "id": "b88c7d05-4df0-4023-b9e4-01f6656cb3f7",
   "metadata": {},
   "outputs": [
    {
     "data": {
      "text/plain": [
       "array([1, 2, 3])"
      ]
     },
     "execution_count": 59,
     "metadata": {},
     "output_type": "execute_result"
    }
   ],
   "source": [
    "a1"
   ]
  },
  {
   "cell_type": "code",
   "execution_count": 60,
   "id": "0e159a61-4856-46fb-bdaf-2ffe6aeb1ab5",
   "metadata": {},
   "outputs": [
    {
     "data": {
      "text/plain": [
       "array([[1., 1., 1.],\n",
       "       [1., 1., 1.]])"
      ]
     },
     "execution_count": 60,
     "metadata": {},
     "output_type": "execute_result"
    }
   ],
   "source": [
    "ones"
   ]
  },
  {
   "cell_type": "code",
   "execution_count": 61,
   "id": "67d7b133-1f4b-4939-95f1-f62ec7ecdb19",
   "metadata": {},
   "outputs": [
    {
     "data": {
      "text/plain": [
       "array([[2., 3., 4.],\n",
       "       [2., 3., 4.]])"
      ]
     },
     "execution_count": 61,
     "metadata": {},
     "output_type": "execute_result"
    }
   ],
   "source": [
    "a1+ones"
   ]
  },
  {
   "cell_type": "code",
   "execution_count": 62,
   "id": "95f92b7f-e5ea-43e0-8cf1-381b471aafe8",
   "metadata": {},
   "outputs": [
    {
     "data": {
      "text/plain": [
       "array([[0., 1., 2.],\n",
       "       [0., 1., 2.]])"
      ]
     },
     "execution_count": 62,
     "metadata": {},
     "output_type": "execute_result"
    }
   ],
   "source": [
    "a1-ones"
   ]
  },
  {
   "cell_type": "code",
   "execution_count": 63,
   "id": "9e1cc5d2-5fc0-4a5b-b845-65381f720013",
   "metadata": {},
   "outputs": [
    {
     "data": {
      "text/plain": [
       "array([[ 1,  4,  9],\n",
       "       [ 4, 10, 18]])"
      ]
     },
     "execution_count": 63,
     "metadata": {},
     "output_type": "execute_result"
    }
   ],
   "source": [
    "a1*a2"
   ]
  },
  {
   "cell_type": "code",
   "execution_count": 64,
   "id": "153ebfa7-71a1-4d27-897a-9f281611f48e",
   "metadata": {},
   "outputs": [
    {
     "data": {
      "text/plain": [
       "array([[1, 2, 3],\n",
       "       [4, 5, 6]])"
      ]
     },
     "execution_count": 64,
     "metadata": {},
     "output_type": "execute_result"
    }
   ],
   "source": [
    "a2"
   ]
  },
  {
   "cell_type": "code",
   "execution_count": 65,
   "id": "3004c702-06d9-45f5-8be1-f6259e611ba9",
   "metadata": {},
   "outputs": [
    {
     "data": {
      "text/plain": [
       "array([1, 2, 3])"
      ]
     },
     "execution_count": 65,
     "metadata": {},
     "output_type": "execute_result"
    }
   ],
   "source": [
    "a1"
   ]
  },
  {
   "cell_type": "code",
   "execution_count": 66,
   "id": "1d263d3c-c271-4e8c-a2ba-bd9f089b96e4",
   "metadata": {},
   "outputs": [
    {
     "data": {
      "text/plain": [
       "array([[1, 1, 1],\n",
       "       [4, 2, 2]])"
      ]
     },
     "execution_count": 66,
     "metadata": {},
     "output_type": "execute_result"
    }
   ],
   "source": [
    "a2//a1 #floor division removes the decimals"
   ]
  },
  {
   "cell_type": "code",
   "execution_count": 67,
   "id": "34c30b4f-7cc3-4d2d-98d7-5f2aaafe0a3e",
   "metadata": {},
   "outputs": [
    {
     "data": {
      "text/plain": [
       "array([[1. , 1. , 1. ],\n",
       "       [4. , 2.5, 2. ]])"
      ]
     },
     "execution_count": 67,
     "metadata": {},
     "output_type": "execute_result"
    }
   ],
   "source": [
    "a2/a1"
   ]
  },
  {
   "cell_type": "code",
   "execution_count": 68,
   "id": "d9bac099-43f9-460a-b558-2b547aec98bb",
   "metadata": {},
   "outputs": [
    {
     "data": {
      "text/plain": [
       "array([[ 1,  4,  9],\n",
       "       [16, 25, 36]])"
      ]
     },
     "execution_count": 68,
     "metadata": {},
     "output_type": "execute_result"
    }
   ],
   "source": [
    "np.square(a2)"
   ]
  },
  {
   "cell_type": "code",
   "execution_count": 69,
   "id": "38fa9e4b-cabc-4d74-929d-88413613878b",
   "metadata": {},
   "outputs": [
    {
     "data": {
      "text/plain": [
       "array([[2., 3., 4.],\n",
       "       [2., 3., 4.]])"
      ]
     },
     "execution_count": 69,
     "metadata": {},
     "output_type": "execute_result"
    }
   ],
   "source": [
    "np.add(a1,ones)"
   ]
  },
  {
   "cell_type": "markdown",
   "id": "e9645b55-02d0-4c19-93a9-ec3768f386ad",
   "metadata": {},
   "source": [
    "## 1. aggregation"
   ]
  },
  {
   "cell_type": "markdown",
   "id": "25fdfd8a-9699-4110-be37-2726d5ae81d0",
   "metadata": {},
   "source": [
    "## Aggregation is performing same operation on number of things"
   ]
  },
  {
   "cell_type": "code",
   "execution_count": 70,
   "id": "f0ff1b92-fd3b-49ef-a7e7-47bbceccb0ae",
   "metadata": {},
   "outputs": [],
   "source": [
    "listy_list=[1,2,3]"
   ]
  },
  {
   "cell_type": "code",
   "execution_count": 71,
   "id": "ae64e2a2-1c67-4629-b2be-5d8b7c08b6a9",
   "metadata": {},
   "outputs": [
    {
     "data": {
      "text/plain": [
       "list"
      ]
     },
     "execution_count": 71,
     "metadata": {},
     "output_type": "execute_result"
    }
   ],
   "source": [
    "type(listy_list)"
   ]
  },
  {
   "cell_type": "code",
   "execution_count": 72,
   "id": "5294fb7e-e817-44fa-a651-15679e1a3e5f",
   "metadata": {},
   "outputs": [
    {
     "data": {
      "text/plain": [
       "6"
      ]
     },
     "execution_count": 72,
     "metadata": {},
     "output_type": "execute_result"
    }
   ],
   "source": [
    "sum(listy_list)"
   ]
  },
  {
   "cell_type": "code",
   "execution_count": 73,
   "id": "59d9aaa1-8686-4774-a994-bc34e9300974",
   "metadata": {},
   "outputs": [
    {
     "data": {
      "text/plain": [
       "array([1, 2, 3])"
      ]
     },
     "execution_count": 73,
     "metadata": {},
     "output_type": "execute_result"
    }
   ],
   "source": [
    "a1"
   ]
  },
  {
   "cell_type": "code",
   "execution_count": 74,
   "id": "e186b647-f2ab-4be5-8776-44a4bb3f8614",
   "metadata": {},
   "outputs": [
    {
     "data": {
      "text/plain": [
       "numpy.ndarray"
      ]
     },
     "execution_count": 74,
     "metadata": {},
     "output_type": "execute_result"
    }
   ],
   "source": [
    "type(a1)"
   ]
  },
  {
   "cell_type": "code",
   "execution_count": 75,
   "id": "cebe4f96-d05d-4c22-be2a-de1b3b706e2c",
   "metadata": {},
   "outputs": [
    {
     "data": {
      "text/plain": [
       "6"
      ]
     },
     "execution_count": 75,
     "metadata": {},
     "output_type": "execute_result"
    }
   ],
   "source": [
    "sum(a1)"
   ]
  },
  {
   "cell_type": "code",
   "execution_count": 76,
   "id": "c5c005da-ef44-4e01-9049-a25f3cd11158",
   "metadata": {},
   "outputs": [
    {
     "data": {
      "text/plain": [
       "6"
      ]
     },
     "execution_count": 76,
     "metadata": {},
     "output_type": "execute_result"
    }
   ],
   "source": [
    "np.sum(a1)"
   ]
  },
  {
   "cell_type": "markdown",
   "id": "b784effe-607e-46ce-b58b-5a12dc0f3631",
   "metadata": {},
   "source": [
    "## Use python's methods for python datatypes sum() and numpy methods for numpy arays np.sum()"
   ]
  },
  {
   "cell_type": "code",
   "execution_count": 77,
   "id": "8cafbb67-b91a-412b-a654-f295f524fc40",
   "metadata": {},
   "outputs": [],
   "source": [
    "massive_array=np.random.random(100000)"
   ]
  },
  {
   "cell_type": "code",
   "execution_count": 78,
   "id": "d62925f9-e7b6-4160-93d9-7987b9b794fd",
   "metadata": {},
   "outputs": [
    {
     "data": {
      "text/plain": [
       "array([0.0427325 , 0.8168675 , 0.01362374, ..., 0.10048968, 0.2633423 ,\n",
       "       0.86162427])"
      ]
     },
     "execution_count": 78,
     "metadata": {},
     "output_type": "execute_result"
    }
   ],
   "source": [
    "massive_array"
   ]
  },
  {
   "cell_type": "code",
   "execution_count": 79,
   "id": "e54150e8-dff3-4d2c-b8e5-72431555a55e",
   "metadata": {},
   "outputs": [
    {
     "data": {
      "text/plain": [
       "array([0.0427325 , 0.8168675 , 0.01362374, 0.55004119, 0.56679677,\n",
       "       0.11291833, 0.06277624, 0.57472422, 0.48548527, 0.3014221 ])"
      ]
     },
     "execution_count": 79,
     "metadata": {},
     "output_type": "execute_result"
    }
   ],
   "source": [
    "massive_array[:10]"
   ]
  },
  {
   "cell_type": "code",
   "execution_count": 80,
   "id": "12b90e09-3016-45e2-8cb7-ae6ab0bea9a4",
   "metadata": {},
   "outputs": [
    {
     "name": "stdout",
     "output_type": "stream",
     "text": [
      "9.01 ms ± 117 µs per loop (mean ± std. dev. of 7 runs, 100 loops each)\n",
      "30.9 µs ± 73.3 ns per loop (mean ± std. dev. of 7 runs, 10,000 loops each)\n"
     ]
    }
   ],
   "source": [
    "%timeit sum(massive_array) #pythons sum\n",
    "%timeit np.sum(massive_array) #numpy sum"
   ]
  },
  {
   "cell_type": "code",
   "execution_count": 81,
   "id": "96e6056b-5934-475d-994a-1b187e73c2af",
   "metadata": {},
   "outputs": [
    {
     "data": {
      "text/plain": [
       "3.5"
      ]
     },
     "execution_count": 81,
     "metadata": {},
     "output_type": "execute_result"
    }
   ],
   "source": [
    "np.mean(a2)"
   ]
  },
  {
   "cell_type": "code",
   "execution_count": 82,
   "id": "8f1f2ff8-22b2-49bb-9466-2cfc1842fc4c",
   "metadata": {},
   "outputs": [],
   "source": [
    "# variance - measure of the average degreee to which each numbner is differing\n",
    "#Higher variance=wider range of numbers\n",
    "#lower variance- lower range of numbers"
   ]
  },
  {
   "cell_type": "code",
   "execution_count": 83,
   "id": "f991944e-f6c9-4b69-9f44-d0b99c664024",
   "metadata": {},
   "outputs": [
    {
     "data": {
      "text/plain": [
       "2.9166666666666665"
      ]
     },
     "execution_count": 83,
     "metadata": {},
     "output_type": "execute_result"
    }
   ],
   "source": [
    "np.var(a2)"
   ]
  },
  {
   "cell_type": "markdown",
   "id": "53040cf9-eea5-44fc-b475-be5d36a73ed6",
   "metadata": {},
   "source": [
    "#standard deviation =square root of variance"
   ]
  },
  {
   "cell_type": "code",
   "execution_count": 84,
   "id": "f5c8385b-403e-4ecb-9cd9-4e52fee7899d",
   "metadata": {},
   "outputs": [
    {
     "data": {
      "text/plain": [
       "1.707825127659933"
      ]
     },
     "execution_count": 84,
     "metadata": {},
     "output_type": "execute_result"
    }
   ],
   "source": [
    "np.sqrt(np.var(a2))"
   ]
  },
  {
   "cell_type": "code",
   "execution_count": 85,
   "id": "91b88e38-e7e1-4cdd-aabf-1f8fcb32d54a",
   "metadata": {},
   "outputs": [],
   "source": [
    "# demo of std and var"
   ]
  },
  {
   "cell_type": "code",
   "execution_count": 90,
   "id": "49fff18e-4956-4c8c-80af-f15fb6cec9da",
   "metadata": {},
   "outputs": [],
   "source": [
    "high_variance_array=np.array([1,100,200,300,4000,5000])"
   ]
  },
  {
   "cell_type": "code",
   "execution_count": 92,
   "id": "507a541e-e8d8-4422-acef-64fff26f279b",
   "metadata": {},
   "outputs": [],
   "source": [
    "low_variance_array=np.array([2,4,6,8,10])"
   ]
  },
  {
   "cell_type": "code",
   "execution_count": 93,
   "id": "8ab77a84-6b9d-42b6-ac7b-68c592afb81b",
   "metadata": {},
   "outputs": [
    {
     "data": {
      "text/plain": [
       "(4296133.472222221, 8.0)"
      ]
     },
     "execution_count": 93,
     "metadata": {},
     "output_type": "execute_result"
    }
   ],
   "source": [
    "np.var(high_variance_array),np.var(low_variance_array)"
   ]
  },
  {
   "cell_type": "code",
   "execution_count": 94,
   "id": "13a62a64-78de-4fe5-95fe-07db13faa306",
   "metadata": {},
   "outputs": [
    {
     "data": {
      "text/plain": [
       "(2072.711623024829, 2.8284271247461903)"
      ]
     },
     "execution_count": 94,
     "metadata": {},
     "output_type": "execute_result"
    }
   ],
   "source": [
    "np.std(high_variance_array), np.std(low_variance_array)"
   ]
  },
  {
   "cell_type": "code",
   "execution_count": 95,
   "id": "3923b659-3f88-495e-8762-c15fba4631a2",
   "metadata": {},
   "outputs": [
    {
     "data": {
      "text/plain": [
       "(1600.1666666666667, 6.0)"
      ]
     },
     "execution_count": 95,
     "metadata": {},
     "output_type": "execute_result"
    }
   ],
   "source": [
    "np.mean(high_variance_array), np.mean(low_variance_array)"
   ]
  },
  {
   "cell_type": "code",
   "execution_count": 96,
   "id": "aaf7925b-6b4d-48d3-9fd6-58d33ffde896",
   "metadata": {},
   "outputs": [
    {
     "data": {
      "image/png": "[encoded data removed]",
      "text/plain": [
       "<Figure size 640x480 with 1 Axes>"
      ]
     },
     "metadata": {},
     "output_type": "display_data"
    }
   ],
   "source": [
    "%matplotlib inline\n",
    "import matplotlib.pyplot as plt\n",
    "plt.hist(high_variance_array)\n",
    "plt.show()"
   ]
  },
  {
   "cell_type": "code",
   "execution_count": 98,
   "id": "7ca99046-56fa-40c6-973a-6d4ce23d8678",
   "metadata": {},
   "outputs": [
    {
     "data": {
      "image/png": "[encoded data removed]",
      "text/plain": [
       "<Figure size 640x480 with 1 Axes>"
      ]
     },
     "metadata": {},
     "output_type": "display_data"
    }
   ],
   "source": [
    "plt.hist(low_variance_array)\n",
    "plt.show()"
   ]
  },
  {
   "cell_type": "markdown",
   "id": "fddfb804-b101-4f67-9679-db3b9af904c1",
   "metadata": {},
   "source": [
    "## reshaping and transposing"
   ]
  },
  {
   "cell_type": "code",
   "execution_count": 99,
   "id": "f9fe23b0-c647-4941-9e55-7d02e70d893b",
   "metadata": {},
   "outputs": [
    {
     "data": {
      "text/plain": [
       "array([[1, 2, 3],\n",
       "       [4, 5, 6]])"
      ]
     },
     "execution_count": 99,
     "metadata": {},
     "output_type": "execute_result"
    }
   ],
   "source": [
    "a2"
   ]
  },
  {
   "cell_type": "code",
   "execution_count": 100,
   "id": "95cfeb41-ed1b-47c1-ac68-e0d5f3e088c9",
   "metadata": {},
   "outputs": [
    {
     "data": {
      "text/plain": [
       "array([[[ 3,  4,  5],\n",
       "        [ 5,  6,  7],\n",
       "        [ 9,  7,  6]],\n",
       "\n",
       "       [[67, 87, 98],\n",
       "        [56, 45, 34],\n",
       "        [ 7, 87,  9]]])"
      ]
     },
     "execution_count": 100,
     "metadata": {},
     "output_type": "execute_result"
    }
   ],
   "source": [
    "a3"
   ]
  },
  {
   "cell_type": "code",
   "execution_count": 102,
   "id": "02215d53-6ad1-4b45-b14d-ebea9f9ccd81",
   "metadata": {},
   "outputs": [
    {
     "ename": "ValueError",
     "evalue": "operands could not be broadcast together with shapes (2,3) (2,3,3) ",
     "output_type": "error",
     "traceback": [
      "\u001b[1;31m---------------------------------------------------------------------------\u001b[0m",
      "\u001b[1;31mValueError\u001b[0m                                Traceback (most recent call last)",
      "Cell \u001b[1;32mIn[102], line 1\u001b[0m\n\u001b[1;32m----> 1\u001b[0m \u001b[43ma2\u001b[49m\u001b[38;5;241;43m*\u001b[39;49m\u001b[43ma3\u001b[49m\n",
      "\u001b[1;31mValueError\u001b[0m: operands could not be broadcast together with shapes (2,3) (2,3,3) "
     ]
    }
   ],
   "source": [
    "a2*a3"
   ]
  },
  {
   "cell_type": "code",
   "execution_count": 103,
   "id": "c982bb37-d1ad-40a0-8e08-dab8034ad187",
   "metadata": {},
   "outputs": [
    {
     "data": {
      "text/plain": [
       "(2, 3)"
      ]
     },
     "execution_count": 103,
     "metadata": {},
     "output_type": "execute_result"
    }
   ],
   "source": [
    "a2.shape"
   ]
  },
  {
   "cell_type": "code",
   "execution_count": 107,
   "id": "c4105a54-34a3-44bd-9e95-7413b7e0ec34",
   "metadata": {},
   "outputs": [],
   "source": [
    "a22=a2.reshape(3,2)"
   ]
  },
  {
   "cell_type": "code",
   "execution_count": 109,
   "id": "be444bc6-c5cd-4b82-a96b-c309efcd26c2",
   "metadata": {},
   "outputs": [
    {
     "data": {
      "text/plain": [
       "array([[1, 2, 3],\n",
       "       [4, 5, 6]])"
      ]
     },
     "execution_count": 109,
     "metadata": {},
     "output_type": "execute_result"
    }
   ],
   "source": [
    "a2"
   ]
  },
  {
   "cell_type": "code",
   "execution_count": 108,
   "id": "50e18cd8-f399-489d-b5a2-97f474034944",
   "metadata": {},
   "outputs": [
    {
     "ename": "ValueError",
     "evalue": "operands could not be broadcast together with shapes (3,2) (2,3,3) ",
     "output_type": "error",
     "traceback": [
      "\u001b[1;31m---------------------------------------------------------------------------\u001b[0m",
      "\u001b[1;31mValueError\u001b[0m                                Traceback (most recent call last)",
      "Cell \u001b[1;32mIn[108], line 1\u001b[0m\n\u001b[1;32m----> 1\u001b[0m \u001b[43ma22\u001b[49m\u001b[38;5;241;43m*\u001b[39;49m\u001b[43ma3\u001b[49m\n",
      "\u001b[1;31mValueError\u001b[0m: operands could not be broadcast together with shapes (3,2) (2,3,3) "
     ]
    }
   ],
   "source": [
    "a22*a3"
   ]
  },
  {
   "cell_type": "code",
   "execution_count": 110,
   "id": "1bbf80a7-c5f2-4a20-8e07-8830dee2ca34",
   "metadata": {},
   "outputs": [
    {
     "data": {
      "text/plain": [
       "(2, 3, 1)"
      ]
     },
     "execution_count": 110,
     "metadata": {},
     "output_type": "execute_result"
    }
   ],
   "source": [
    "a2.reshape(2,3,1).shape"
   ]
  },
  {
   "cell_type": "code",
   "execution_count": 111,
   "id": "decb5261-50f7-4958-b1fd-d10ddd2dfac5",
   "metadata": {},
   "outputs": [
    {
     "data": {
      "text/plain": [
       "(2, 3, 3)"
      ]
     },
     "execution_count": 111,
     "metadata": {},
     "output_type": "execute_result"
    }
   ],
   "source": [
    "a3.shape"
   ]
  },
  {
   "cell_type": "code",
   "execution_count": 112,
   "id": "e2e95c89-ac94-4446-92dc-e0156d6881cf",
   "metadata": {},
   "outputs": [
    {
     "data": {
      "text/plain": [
       "array([[[1],\n",
       "        [2],\n",
       "        [3]],\n",
       "\n",
       "       [[4],\n",
       "        [5],\n",
       "        [6]]])"
      ]
     },
     "execution_count": 112,
     "metadata": {},
     "output_type": "execute_result"
    }
   ],
   "source": [
    "a2_reshape=a2.reshape(2,3,1)\n",
    "a2_reshape"
   ]
  },
  {
   "cell_type": "code",
   "execution_count": 113,
   "id": "3cac50e3-f044-426d-abd7-6c21c898e2dd",
   "metadata": {},
   "outputs": [
    {
     "data": {
      "text/plain": [
       "array([[[  3,   4,   5],\n",
       "        [ 10,  12,  14],\n",
       "        [ 27,  21,  18]],\n",
       "\n",
       "       [[268, 348, 392],\n",
       "        [280, 225, 170],\n",
       "        [ 42, 522,  54]]])"
      ]
     },
     "execution_count": 113,
     "metadata": {},
     "output_type": "execute_result"
    }
   ],
   "source": [
    "a2_reshape*a3"
   ]
  },
  {
   "cell_type": "code",
   "execution_count": 114,
   "id": "6f5d9529-1f7d-4d05-a6f8-dcb87c16f172",
   "metadata": {},
   "outputs": [
    {
     "data": {
      "text/plain": [
       "array([[1, 4],\n",
       "       [2, 5],\n",
       "       [3, 6]])"
      ]
     },
     "execution_count": 114,
     "metadata": {},
     "output_type": "execute_result"
    }
   ],
   "source": [
    "#transpose it switches the axis'\n",
    "a2.T"
   ]
  },
  {
   "cell_type": "code",
   "execution_count": 115,
   "id": "82907db0-5847-47e0-8475-2917e3b264c6",
   "metadata": {},
   "outputs": [
    {
     "data": {
      "text/plain": [
       "(3, 2)"
      ]
     },
     "execution_count": 115,
     "metadata": {},
     "output_type": "execute_result"
    }
   ],
   "source": [
    "a2.T.shape"
   ]
  },
  {
   "cell_type": "code",
   "execution_count": 116,
   "id": "c329e930-82be-4d6d-835a-1a718f9a1600",
   "metadata": {},
   "outputs": [
    {
     "data": {
      "text/plain": [
       "(2, 3, 3)"
      ]
     },
     "execution_count": 116,
     "metadata": {},
     "output_type": "execute_result"
    }
   ],
   "source": [
    "a3.shape"
   ]
  },
  {
   "cell_type": "code",
   "execution_count": 117,
   "id": "0ee42360-452b-40b2-9c87-f3998fcca2a8",
   "metadata": {},
   "outputs": [
    {
     "data": {
      "text/plain": [
       "(3, 3, 2)"
      ]
     },
     "execution_count": 117,
     "metadata": {},
     "output_type": "execute_result"
    }
   ],
   "source": [
    "a3.T.shape"
   ]
  },
  {
   "cell_type": "code",
   "execution_count": 119,
   "id": "1b0148db-a7ca-4ec7-8aa7-5a2e635d6602",
   "metadata": {},
   "outputs": [],
   "source": [
    "np.random.seed(seed=0)\n",
    "\n",
    "mat1=np.random.randint(10,size=(5,3))\n",
    "mat2=np.random.randint(10,size=(5,3))"
   ]
  },
  {
   "cell_type": "code",
   "execution_count": 121,
   "id": "8193f2fe-f185-4bf6-a5f1-73dbd793cef3",
   "metadata": {},
   "outputs": [
    {
     "data": {
      "text/plain": [
       "(array([[5, 0, 3],\n",
       "        [3, 7, 9],\n",
       "        [3, 5, 2],\n",
       "        [4, 7, 6],\n",
       "        [8, 8, 1]]),\n",
       " array([[6, 7, 7],\n",
       "        [8, 1, 5],\n",
       "        [9, 8, 9],\n",
       "        [4, 3, 0],\n",
       "        [3, 5, 0]]))"
      ]
     },
     "execution_count": 121,
     "metadata": {},
     "output_type": "execute_result"
    }
   ],
   "source": [
    "mat1,   mat2"
   ]
  },
  {
   "cell_type": "markdown",
   "id": "d57dd4c5-5161-4e60-ae01-b30474b43d73",
   "metadata": {},
   "source": [
    "## Elememt wise multiplication or Hadamard Poduct"
   ]
  },
  {
   "cell_type": "code",
   "execution_count": 122,
   "id": "1bc069ab-8aac-45de-9ab0-35f49166f714",
   "metadata": {},
   "outputs": [
    {
     "data": {
      "text/plain": [
       "array([[30,  0, 21],\n",
       "       [24,  7, 45],\n",
       "       [27, 40, 18],\n",
       "       [16, 21,  0],\n",
       "       [24, 40,  0]])"
      ]
     },
     "execution_count": 122,
     "metadata": {},
     "output_type": "execute_result"
    }
   ],
   "source": [
    "mat1*mat2"
   ]
  },
  {
   "cell_type": "code",
   "execution_count": 123,
   "id": "6717c7ed-2b1f-47ea-bf08-6942e0b037d5",
   "metadata": {},
   "outputs": [
    {
     "ename": "ValueError",
     "evalue": "shapes (5,3) and (5,3) not aligned: 3 (dim 1) != 5 (dim 0)",
     "output_type": "error",
     "traceback": [
      "\u001b[1;31m---------------------------------------------------------------------------\u001b[0m",
      "\u001b[1;31mValueError\u001b[0m                                Traceback (most recent call last)",
      "Cell \u001b[1;32mIn[123], line 1\u001b[0m\n\u001b[1;32m----> 1\u001b[0m \u001b[43mnp\u001b[49m\u001b[38;5;241;43m.\u001b[39;49m\u001b[43mdot\u001b[49m\u001b[43m(\u001b[49m\u001b[43mmat1\u001b[49m\u001b[43m,\u001b[49m\u001b[43mmat2\u001b[49m\u001b[43m)\u001b[49m\n",
      "File \u001b[1;32m<__array_function__ internals>:200\u001b[0m, in \u001b[0;36mdot\u001b[1;34m(*args, **kwargs)\u001b[0m\n",
      "\u001b[1;31mValueError\u001b[0m: shapes (5,3) and (5,3) not aligned: 3 (dim 1) != 5 (dim 0)"
     ]
    }
   ],
   "source": [
    "np.dot(mat1,mat2)"
   ]
  },
  {
   "cell_type": "code",
   "execution_count": 127,
   "id": "bd45c20e-6576-4ef4-a634-2b869c1c8bbd",
   "metadata": {},
   "outputs": [],
   "source": [
    "maT2=mat2.T"
   ]
  },
  {
   "cell_type": "code",
   "execution_count": 129,
   "id": "d9a9463f-b93c-4423-ae23-a828bbc74360",
   "metadata": {},
   "outputs": [
    {
     "data": {
      "text/plain": [
       "array([[ 51,  55,  72,  20,  15],\n",
       "       [130,  76, 164,  33,  44],\n",
       "       [ 67,  39,  85,  27,  34],\n",
       "       [115,  69, 146,  37,  47],\n",
       "       [111,  77, 145,  56,  64]])"
      ]
     },
     "execution_count": 129,
     "metadata": {},
     "output_type": "execute_result"
    }
   ],
   "source": [
    "np.dot(mat1,maT2)"
   ]
  },
  {
   "cell_type": "markdown",
   "id": "35a0d717-1348-49da-87f1-fc6e3277dc5d",
   "metadata": {},
   "source": [
    "## Nut butter examples"
   ]
  },
  {
   "cell_type": "code",
   "execution_count": 132,
   "id": "bfed29b9-d182-4296-ad1f-b3b6cf284137",
   "metadata": {},
   "outputs": [
    {
     "data": {
      "text/plain": [
       "array([[12, 15,  0],\n",
       "       [ 3,  3,  7],\n",
       "       [ 9, 19, 18],\n",
       "       [ 4,  6, 12],\n",
       "       [ 1,  6,  7]])"
      ]
     },
     "execution_count": 132,
     "metadata": {},
     "output_type": "execute_result"
    }
   ],
   "source": [
    "np.random.seed(seed=0)\n",
    "#number of jars sold\n",
    "sales_amounts=np.random.randint(20,size=(5,3))\n",
    "sales_amounts\n",
    "\n"
   ]
  },
  {
   "cell_type": "code",
   "execution_count": 137,
   "id": "dbe7b249-7955-421f-bf9f-dfd57cb46ac8",
   "metadata": {},
   "outputs": [],
   "source": [
    "weekly_sales=pd.DataFrame(sales_amounts,index=[\"Mon\",\"Tue\",\"Wed\",\"Thurs\",\"Fri\"],columns=[\"Almonds Butter\",\"Peanut Butter\",\"Cahsew Butter\"])"
   ]
  },
  {
   "cell_type": "code",
   "execution_count": 138,
   "id": "1ad4e888-0053-4e5c-9ce8-02a04408c674",
   "metadata": {},
   "outputs": [
    {
     "data": {
      "text/html": [
       "<div>\n",
       "<style scoped>\n",
       "    .dataframe tbody tr th:only-of-type {\n",
       "        vertical-align: middle;\n",
       "    }\n",
       "\n",
       "    .dataframe tbody tr th {\n",
       "        vertical-align: top;\n",
       "    }\n",
       "\n",
       "    .dataframe thead th {\n",
       "        text-align: right;\n",
       "    }\n",
       "</style>\n",
       "<table border=\"1\" class=\"dataframe\">\n",
       "  <thead>\n",
       "    <tr style=\"text-align: right;\">\n",
       "      <th></th>\n",
       "      <th>Almonds Butter</th>\n",
       "      <th>Peanut Butter</th>\n",
       "      <th>Cahsew Butter</th>\n",
       "    </tr>\n",
       "  </thead>\n",
       "  <tbody>\n",
       "    <tr>\n",
       "      <th>Mon</th>\n",
       "      <td>12</td>\n",
       "      <td>15</td>\n",
       "      <td>0</td>\n",
       "    </tr>\n",
       "    <tr>\n",
       "      <th>Tue</th>\n",
       "      <td>3</td>\n",
       "      <td>3</td>\n",
       "      <td>7</td>\n",
       "    </tr>\n",
       "    <tr>\n",
       "      <th>Wed</th>\n",
       "      <td>9</td>\n",
       "      <td>19</td>\n",
       "      <td>18</td>\n",
       "    </tr>\n",
       "    <tr>\n",
       "      <th>Thurs</th>\n",
       "      <td>4</td>\n",
       "      <td>6</td>\n",
       "      <td>12</td>\n",
       "    </tr>\n",
       "    <tr>\n",
       "      <th>Fri</th>\n",
       "      <td>1</td>\n",
       "      <td>6</td>\n",
       "      <td>7</td>\n",
       "    </tr>\n",
       "  </tbody>\n",
       "</table>\n",
       "</div>"
      ],
      "text/plain": [
       "       Almonds Butter  Peanut Butter  Cahsew Butter\n",
       "Mon                12             15              0\n",
       "Tue                 3              3              7\n",
       "Wed                 9             19             18\n",
       "Thurs               4              6             12\n",
       "Fri                 1              6              7"
      ]
     },
     "execution_count": 138,
     "metadata": {},
     "output_type": "execute_result"
    }
   ],
   "source": [
    "weekly_sales"
   ]
  },
  {
   "cell_type": "code",
   "execution_count": 147,
   "id": "ed48ca53-02ff-45e7-9757-8ef898ae2cb1",
   "metadata": {},
   "outputs": [],
   "source": [
    "#create prices array\n",
    "Prices=np.array([10,8,12])"
   ]
  },
  {
   "cell_type": "code",
   "execution_count": 143,
   "id": "2fe7641e-3fb3-4de8-be27-df5e11685954",
   "metadata": {},
   "outputs": [
    {
     "ename": "ValueError",
     "evalue": "Shape of passed values is (3, 1), indices imply (1, 3)",
     "output_type": "error",
     "traceback": [
      "\u001b[1;31m---------------------------------------------------------------------------\u001b[0m",
      "\u001b[1;31mValueError\u001b[0m                                Traceback (most recent call last)",
      "Cell \u001b[1;32mIn[143], line 2\u001b[0m\n\u001b[0;32m      1\u001b[0m \u001b[38;5;66;03m#creating prices dataframe\u001b[39;00m\n\u001b[1;32m----> 2\u001b[0m butter_prices\u001b[38;5;241m=\u001b[39m\u001b[43mpd\u001b[49m\u001b[38;5;241;43m.\u001b[39;49m\u001b[43mDataFrame\u001b[49m\u001b[43m(\u001b[49m\u001b[43mPrices\u001b[49m\u001b[43m,\u001b[49m\u001b[43mindex\u001b[49m\u001b[38;5;241;43m=\u001b[39;49m\u001b[43m[\u001b[49m\u001b[38;5;124;43m\"\u001b[39;49m\u001b[38;5;124;43mPrice\u001b[39;49m\u001b[38;5;124;43m\"\u001b[39;49m\u001b[43m]\u001b[49m\u001b[43m,\u001b[49m\u001b[43mcolumns\u001b[49m\u001b[38;5;241;43m=\u001b[39;49m\u001b[43m[\u001b[49m\u001b[38;5;124;43m\"\u001b[39;49m\u001b[38;5;124;43mAlmonds Butter\u001b[39;49m\u001b[38;5;124;43m\"\u001b[39;49m\u001b[43m,\u001b[49m\u001b[38;5;124;43m\"\u001b[39;49m\u001b[38;5;124;43mPeanut Butter\u001b[39;49m\u001b[38;5;124;43m\"\u001b[39;49m\u001b[43m,\u001b[49m\u001b[38;5;124;43m\"\u001b[39;49m\u001b[38;5;124;43mCahsew Butter\u001b[39;49m\u001b[38;5;124;43m\"\u001b[39;49m\u001b[43m]\u001b[49m\u001b[43m)\u001b[49m\n",
      "File \u001b[1;32mc:\\Users\\diksh\\Documents\\sample_project2\\env\\lib\\site-packages\\pandas\\core\\frame.py:758\u001b[0m, in \u001b[0;36mDataFrame.__init__\u001b[1;34m(self, data, index, columns, dtype, copy)\u001b[0m\n\u001b[0;32m    747\u001b[0m         mgr \u001b[38;5;241m=\u001b[39m dict_to_mgr(\n\u001b[0;32m    748\u001b[0m             \u001b[38;5;66;03m# error: Item \"ndarray\" of \"Union[ndarray, Series, Index]\" has no\u001b[39;00m\n\u001b[0;32m    749\u001b[0m             \u001b[38;5;66;03m# attribute \"name\"\u001b[39;00m\n\u001b[1;32m   (...)\u001b[0m\n\u001b[0;32m    755\u001b[0m             copy\u001b[38;5;241m=\u001b[39m_copy,\n\u001b[0;32m    756\u001b[0m         )\n\u001b[0;32m    757\u001b[0m     \u001b[38;5;28;01melse\u001b[39;00m:\n\u001b[1;32m--> 758\u001b[0m         mgr \u001b[38;5;241m=\u001b[39m \u001b[43mndarray_to_mgr\u001b[49m\u001b[43m(\u001b[49m\n\u001b[0;32m    759\u001b[0m \u001b[43m            \u001b[49m\u001b[43mdata\u001b[49m\u001b[43m,\u001b[49m\n\u001b[0;32m    760\u001b[0m \u001b[43m            \u001b[49m\u001b[43mindex\u001b[49m\u001b[43m,\u001b[49m\n\u001b[0;32m    761\u001b[0m \u001b[43m            \u001b[49m\u001b[43mcolumns\u001b[49m\u001b[43m,\u001b[49m\n\u001b[0;32m    762\u001b[0m \u001b[43m            \u001b[49m\u001b[43mdtype\u001b[49m\u001b[38;5;241;43m=\u001b[39;49m\u001b[43mdtype\u001b[49m\u001b[43m,\u001b[49m\n\u001b[0;32m    763\u001b[0m \u001b[43m            \u001b[49m\u001b[43mcopy\u001b[49m\u001b[38;5;241;43m=\u001b[39;49m\u001b[43mcopy\u001b[49m\u001b[43m,\u001b[49m\n\u001b[0;32m    764\u001b[0m \u001b[43m            \u001b[49m\u001b[43mtyp\u001b[49m\u001b[38;5;241;43m=\u001b[39;49m\u001b[43mmanager\u001b[49m\u001b[43m,\u001b[49m\n\u001b[0;32m    765\u001b[0m \u001b[43m        \u001b[49m\u001b[43m)\u001b[49m\n\u001b[0;32m    767\u001b[0m \u001b[38;5;66;03m# For data is list-like, or Iterable (will consume into list)\u001b[39;00m\n\u001b[0;32m    768\u001b[0m \u001b[38;5;28;01melif\u001b[39;00m is_list_like(data):\n",
      "File \u001b[1;32mc:\\Users\\diksh\\Documents\\sample_project2\\env\\lib\\site-packages\\pandas\\core\\internals\\construction.py:337\u001b[0m, in \u001b[0;36mndarray_to_mgr\u001b[1;34m(values, index, columns, dtype, copy, typ)\u001b[0m\n\u001b[0;32m    332\u001b[0m \u001b[38;5;66;03m# _prep_ndarraylike ensures that values.ndim == 2 at this point\u001b[39;00m\n\u001b[0;32m    333\u001b[0m index, columns \u001b[38;5;241m=\u001b[39m _get_axes(\n\u001b[0;32m    334\u001b[0m     values\u001b[38;5;241m.\u001b[39mshape[\u001b[38;5;241m0\u001b[39m], values\u001b[38;5;241m.\u001b[39mshape[\u001b[38;5;241m1\u001b[39m], index\u001b[38;5;241m=\u001b[39mindex, columns\u001b[38;5;241m=\u001b[39mcolumns\n\u001b[0;32m    335\u001b[0m )\n\u001b[1;32m--> 337\u001b[0m \u001b[43m_check_values_indices_shape_match\u001b[49m\u001b[43m(\u001b[49m\u001b[43mvalues\u001b[49m\u001b[43m,\u001b[49m\u001b[43m \u001b[49m\u001b[43mindex\u001b[49m\u001b[43m,\u001b[49m\u001b[43m \u001b[49m\u001b[43mcolumns\u001b[49m\u001b[43m)\u001b[49m\n\u001b[0;32m    339\u001b[0m \u001b[38;5;28;01mif\u001b[39;00m typ \u001b[38;5;241m==\u001b[39m \u001b[38;5;124m\"\u001b[39m\u001b[38;5;124marray\u001b[39m\u001b[38;5;124m\"\u001b[39m:\n\u001b[0;32m    340\u001b[0m     \u001b[38;5;28;01mif\u001b[39;00m \u001b[38;5;28missubclass\u001b[39m(values\u001b[38;5;241m.\u001b[39mdtype\u001b[38;5;241m.\u001b[39mtype, \u001b[38;5;28mstr\u001b[39m):\n",
      "File \u001b[1;32mc:\\Users\\diksh\\Documents\\sample_project2\\env\\lib\\site-packages\\pandas\\core\\internals\\construction.py:408\u001b[0m, in \u001b[0;36m_check_values_indices_shape_match\u001b[1;34m(values, index, columns)\u001b[0m\n\u001b[0;32m    406\u001b[0m passed \u001b[38;5;241m=\u001b[39m values\u001b[38;5;241m.\u001b[39mshape\n\u001b[0;32m    407\u001b[0m implied \u001b[38;5;241m=\u001b[39m (\u001b[38;5;28mlen\u001b[39m(index), \u001b[38;5;28mlen\u001b[39m(columns))\n\u001b[1;32m--> 408\u001b[0m \u001b[38;5;28;01mraise\u001b[39;00m \u001b[38;5;167;01mValueError\u001b[39;00m(\u001b[38;5;124mf\u001b[39m\u001b[38;5;124m\"\u001b[39m\u001b[38;5;124mShape of passed values is \u001b[39m\u001b[38;5;132;01m{\u001b[39;00mpassed\u001b[38;5;132;01m}\u001b[39;00m\u001b[38;5;124m, indices imply \u001b[39m\u001b[38;5;132;01m{\u001b[39;00mimplied\u001b[38;5;132;01m}\u001b[39;00m\u001b[38;5;124m\"\u001b[39m)\n",
      "\u001b[1;31mValueError\u001b[0m: Shape of passed values is (3, 1), indices imply (1, 3)"
     ]
    }
   ],
   "source": [
    "#creating prices dataframe\n",
    "butter_prices=pd.DataFrame(Prices,index=[\"Price\"],columns=[\"Almonds Butter\",\"Peanut Butter\",\"Cahsew Butter\"])"
   ]
  },
  {
   "cell_type": "code",
   "execution_count": 151,
   "id": "e5069f95-f70d-46a5-b68c-86d6c6ce73c9",
   "metadata": {},
   "outputs": [],
   "source": [
    "import pandas as pd\n",
    "\n",
    "# Assuming Prices is a list or array containing the prices\n",
    "prices = [5.0, 4.0, 6.0]\n",
    "\n",
    "butter_prices = pd.DataFrame([prices], index=[\"Price\"], columns=[\"Almonds Butter\", \"Peanut Butter\", \"Cashew Butter\"])\n"
   ]
  },
  {
   "cell_type": "code",
   "execution_count": 152,
   "id": "fc913e74-2abb-4be3-91ad-57e97415621e",
   "metadata": {},
   "outputs": [
    {
     "data": {
      "text/html": [
       "<div>\n",
       "<style scoped>\n",
       "    .dataframe tbody tr th:only-of-type {\n",
       "        vertical-align: middle;\n",
       "    }\n",
       "\n",
       "    .dataframe tbody tr th {\n",
       "        vertical-align: top;\n",
       "    }\n",
       "\n",
       "    .dataframe thead th {\n",
       "        text-align: right;\n",
       "    }\n",
       "</style>\n",
       "<table border=\"1\" class=\"dataframe\">\n",
       "  <thead>\n",
       "    <tr style=\"text-align: right;\">\n",
       "      <th></th>\n",
       "      <th>Almonds Butter</th>\n",
       "      <th>Peanut Butter</th>\n",
       "      <th>Cashew Butter</th>\n",
       "    </tr>\n",
       "  </thead>\n",
       "  <tbody>\n",
       "    <tr>\n",
       "      <th>Price</th>\n",
       "      <td>5.0</td>\n",
       "      <td>4.0</td>\n",
       "      <td>6.0</td>\n",
       "    </tr>\n",
       "  </tbody>\n",
       "</table>\n",
       "</div>"
      ],
      "text/plain": [
       "       Almonds Butter  Peanut Butter  Cashew Butter\n",
       "Price             5.0            4.0            6.0"
      ]
     },
     "execution_count": 152,
     "metadata": {},
     "output_type": "execute_result"
    }
   ],
   "source": [
    "butter_prices"
   ]
  },
  {
   "cell_type": "code",
   "execution_count": 153,
   "id": "72c67396-20a7-46d2-945c-9652c338e3a0",
   "metadata": {},
   "outputs": [
    {
     "data": {
      "text/plain": [
       "17"
      ]
     },
     "execution_count": 153,
     "metadata": {},
     "output_type": "execute_result"
    }
   ],
   "source": [
    "9+8"
   ]
  },
  {
   "cell_type": "code",
   "execution_count": 154,
   "id": "35ed8113-0b35-4c2b-9f66-aabcecebd7a1",
   "metadata": {},
   "outputs": [
    {
     "ename": "ValueError",
     "evalue": "shapes (3,) and (5,3) not aligned: 3 (dim 0) != 5 (dim 0)",
     "output_type": "error",
     "traceback": [
      "\u001b[1;31m---------------------------------------------------------------------------\u001b[0m",
      "\u001b[1;31mValueError\u001b[0m                                Traceback (most recent call last)",
      "Cell \u001b[1;32mIn[154], line 1\u001b[0m\n\u001b[1;32m----> 1\u001b[0m total_sales\u001b[38;5;241m=\u001b[39m\u001b[43mPrices\u001b[49m\u001b[38;5;241;43m.\u001b[39;49m\u001b[43mdot\u001b[49m\u001b[43m(\u001b[49m\u001b[43mweekly_sales\u001b[49m\u001b[43m)\u001b[49m\n",
      "\u001b[1;31mValueError\u001b[0m: shapes (3,) and (5,3) not aligned: 3 (dim 0) != 5 (dim 0)"
     ]
    }
   ],
   "source": [
    "total_sales=Prices.dot(weekly_sales)"
   ]
  },
  {
   "cell_type": "code",
   "execution_count": 156,
   "id": "087a6655-f2a0-499e-a79c-59eeead69164",
   "metadata": {},
   "outputs": [
    {
     "data": {
      "text/plain": [
       "(3,)"
      ]
     },
     "execution_count": 156,
     "metadata": {},
     "output_type": "execute_result"
    }
   ],
   "source": [
    "Prices.T.shape"
   ]
  },
  {
   "cell_type": "code",
   "execution_count": 164,
   "id": "ad9b8d34-ba04-4719-ad12-12bcdae27894",
   "metadata": {},
   "outputs": [],
   "source": [
    "WeeklyT=weekly_sales.T"
   ]
  },
  {
   "cell_type": "code",
   "execution_count": 162,
   "id": "bf91a181-e15e-4a0e-bdcd-9976b365e445",
   "metadata": {},
   "outputs": [],
   "source": [
    "total_sales=Prices.dot(weekly_sales.T)"
   ]
  },
  {
   "cell_type": "code",
   "execution_count": 163,
   "id": "dd6a771d-13bb-4df0-b1d8-e185ef3c01bc",
   "metadata": {},
   "outputs": [
    {
     "data": {
      "text/plain": [
       "array([240, 138, 458, 232, 142])"
      ]
     },
     "execution_count": 163,
     "metadata": {},
     "output_type": "execute_result"
    }
   ],
   "source": [
    "total_sales"
   ]
  },
  {
   "cell_type": "code",
   "execution_count": 165,
   "id": "03e8dae4-af2b-4795-b8e8-4239c4065a26",
   "metadata": {},
   "outputs": [],
   "source": [
    "total_sales=Prices.dot(WeeklyT)"
   ]
  },
  {
   "cell_type": "code",
   "execution_count": 166,
   "id": "d73a311d-3889-4bed-9785-9aa1eb921cf5",
   "metadata": {},
   "outputs": [
    {
     "data": {
      "text/plain": [
       "array([240, 138, 458, 232, 142])"
      ]
     },
     "execution_count": 166,
     "metadata": {},
     "output_type": "execute_result"
    }
   ],
   "source": [
    "total_sales"
   ]
  },
  {
   "cell_type": "markdown",
   "id": "80ef5099-ef76-46bd-9e85-ad34d758f28c",
   "metadata": {},
   "source": [
    "## Comparison Operators"
   ]
  },
  {
   "cell_type": "code",
   "execution_count": 167,
   "id": "f1e41433-81b6-4c0b-9832-5e7290be28d8",
   "metadata": {},
   "outputs": [
    {
     "data": {
      "text/plain": [
       "array([1, 2, 3])"
      ]
     },
     "execution_count": 167,
     "metadata": {},
     "output_type": "execute_result"
    }
   ],
   "source": [
    "a1"
   ]
  },
  {
   "cell_type": "code",
   "execution_count": 168,
   "id": "aa4f3362-487e-4eb1-8e98-2220b8b205ee",
   "metadata": {},
   "outputs": [
    {
     "data": {
      "text/plain": [
       "array([[1, 2, 3],\n",
       "       [4, 5, 6]])"
      ]
     },
     "execution_count": 168,
     "metadata": {},
     "output_type": "execute_result"
    }
   ],
   "source": [
    "a2"
   ]
  },
  {
   "cell_type": "code",
   "execution_count": 169,
   "id": "63f21a10-679f-4ebb-b0e3-0879ddff1d6e",
   "metadata": {},
   "outputs": [
    {
     "data": {
      "text/plain": [
       "array([[False, False, False],\n",
       "       [False, False, False]])"
      ]
     },
     "execution_count": 169,
     "metadata": {},
     "output_type": "execute_result"
    }
   ],
   "source": [
    "a1>a2"
   ]
  },
  {
   "cell_type": "markdown",
   "id": "a6deae9a-867c-41a6-8663-ff8f148f107c",
   "metadata": {},
   "source": [
    "## sorting arrays"
   ]
  },
  {
   "cell_type": "code",
   "execution_count": 172,
   "id": "c11b2499-9b62-4a97-8e90-8d3ccbd204af",
   "metadata": {},
   "outputs": [
    {
     "data": {
      "text/plain": [
       "array([[7, 2, 0, 0, 4, 5, 5, 6],\n",
       "       [8, 4, 1, 4, 9, 8, 1, 1],\n",
       "       [7, 9, 9, 3, 6, 7, 2, 0],\n",
       "       [3, 5, 9, 4, 4, 6, 4, 4],\n",
       "       [3, 4, 4, 8, 4, 3, 7, 5]])"
      ]
     },
     "execution_count": 172,
     "metadata": {},
     "output_type": "execute_result"
    }
   ],
   "source": [
    "random_array=np.random.randint(10,size=(5,8))\n",
    "random_array"
   ]
  },
  {
   "cell_type": "code",
   "execution_count": 173,
   "id": "e5c5c1a2-9547-4f60-a4d1-680c94d84321",
   "metadata": {},
   "outputs": [
    {
     "data": {
      "text/plain": [
       "array([[0, 0, 2, 4, 5, 5, 6, 7],\n",
       "       [1, 1, 1, 4, 4, 8, 8, 9],\n",
       "       [0, 2, 3, 6, 7, 7, 9, 9],\n",
       "       [3, 4, 4, 4, 4, 5, 6, 9],\n",
       "       [3, 3, 4, 4, 4, 5, 7, 8]])"
      ]
     },
     "execution_count": 173,
     "metadata": {},
     "output_type": "execute_result"
    }
   ],
   "source": [
    "np.sort(random_array)"
   ]
  },
  {
   "cell_type": "code",
   "execution_count": 174,
   "id": "eddf16ce-65a3-45f5-90ba-8f609df1e6ec",
   "metadata": {},
   "outputs": [
    {
     "data": {
      "text/plain": [
       "array([[2, 3, 1, 4, 5, 6, 7, 0],\n",
       "       [2, 6, 7, 1, 3, 0, 5, 4],\n",
       "       [7, 6, 3, 4, 0, 5, 1, 2],\n",
       "       [0, 3, 4, 6, 7, 1, 5, 2],\n",
       "       [0, 5, 1, 2, 4, 7, 6, 3]], dtype=int64)"
      ]
     },
     "execution_count": 174,
     "metadata": {},
     "output_type": "execute_result"
    }
   ],
   "source": [
    "np.argsort(random_array)"
   ]
  },
  {
   "cell_type": "code",
   "execution_count": 177,
   "id": "6e33cd88-0a99-4577-9e80-301184913f21",
   "metadata": {},
   "outputs": [],
   "source": [
    "num=[42 ,18, 25, 7, 36]\n"
   ]
  },
  {
   "cell_type": "code",
   "execution_count": 178,
   "id": "28913d42-4fbb-490b-931f-cba9bb3f3d11",
   "metadata": {},
   "outputs": [
    {
     "data": {
      "text/plain": [
       "array([ 7, 18, 25, 36, 42])"
      ]
     },
     "execution_count": 178,
     "metadata": {},
     "output_type": "execute_result"
    }
   ],
   "source": [
    "np.sort(num)"
   ]
  },
  {
   "cell_type": "markdown",
   "id": "2684d249-20e7-4f0c-abf5-6700704502f4",
   "metadata": {},
   "source": [
    "given array [42 18 25 7 36]\n",
    "sorted array[ 7, 18, 25, 36, 42]\n",
    "result of np.argsort[3 1 2 4 0]"
   ]
  },
  {
   "cell_type": "code",
   "execution_count": 180,
   "id": "6b6cdee3-d5ea-4eb8-a414-1d5fc04cbb9e",
   "metadata": {},
   "outputs": [
    {
     "data": {
      "text/plain": [
       "2"
      ]
     },
     "execution_count": 180,
     "metadata": {},
     "output_type": "execute_result"
    }
   ],
   "source": [
    "np.argmin(random_array)"
   ]
  },
  {
   "cell_type": "code",
   "execution_count": 181,
   "id": "21c59bf4-18dd-4748-a5b7-1f35356fb86d",
   "metadata": {},
   "outputs": [
    {
     "data": {
      "text/plain": [
       "12"
      ]
     },
     "execution_count": 181,
     "metadata": {},
     "output_type": "execute_result"
    }
   ],
   "source": [
    "np.argmax(random_array)"
   ]
  },
  {
   "cell_type": "code",
   "execution_count": 182,
   "id": "7ded5172-93e5-465d-b553-12c64204f425",
   "metadata": {},
   "outputs": [
    {
     "data": {
      "text/plain": [
       "array([0, 4, 1, 2, 3], dtype=int64)"
      ]
     },
     "execution_count": 182,
     "metadata": {},
     "output_type": "execute_result"
    }
   ],
   "source": [
    "np.argmax(random_array,axis=1)"
   ]
  },
  {
   "cell_type": "code",
   "execution_count": 183,
   "id": "1361b70d-def9-4244-aa27-d53e5406c0bb",
   "metadata": {},
   "outputs": [
    {
     "data": {
      "text/plain": [
       "array([1, 2, 2, 4, 1, 1, 4, 0], dtype=int64)"
      ]
     },
     "execution_count": 183,
     "metadata": {},
     "output_type": "execute_result"
    }
   ],
   "source": [
    "np.argmax(random_array,axis=0)"
   ]
  },
  {
   "cell_type": "code",
   "execution_count": 184,
   "id": "d3c5cdfd-f1a2-4259-bea4-cf7b2ec51ae7",
   "metadata": {},
   "outputs": [
    {
     "data": {
      "text/plain": [
       "array([[7, 2, 0, 0, 4, 5, 5, 6],\n",
       "       [8, 4, 1, 4, 9, 8, 1, 1],\n",
       "       [7, 9, 9, 3, 6, 7, 2, 0],\n",
       "       [3, 5, 9, 4, 4, 6, 4, 4],\n",
       "       [3, 4, 4, 8, 4, 3, 7, 5]])"
      ]
     },
     "execution_count": 184,
     "metadata": {},
     "output_type": "execute_result"
    }
   ],
   "source": [
    "random_array"
   ]
  },
  {
   "cell_type": "markdown",
   "id": "a7c793a7-0da7-4bc8-a336-e1d020dda00d",
   "metadata": {},
   "source": [
    "## Numpy in action!!!!"
   ]
  },
  {
   "cell_type": "markdown",
   "id": "826b9944-97d9-41de-8869-993f043d5ea4",
   "metadata": {},
   "source": [
    "<img src =\"images/cat.jpg\""
   ]
  },
  {
   "cell_type": "code",
   "execution_count": 188,
   "id": "2eb05a78-af3d-42a1-9a9e-cf446d9e0c7d",
   "metadata": {},
   "outputs": [
    {
     "data": {
      "text/plain": [
       "14"
      ]
     },
     "execution_count": 188,
     "metadata": {},
     "output_type": "execute_result"
    }
   ],
   "source": [
    "6+8"
   ]
  },
  {
   "cell_type": "markdown",
   "id": "7908f332-3a06-43d8-864b-b8298e6c57ed",
   "metadata": {},
   "source": [
    "<img src=\"images\\cat.jpg\"\\>\n"
   ]
  },
  {
   "cell_type": "code",
   "execution_count": 199,
   "id": "0a74dea1-b4e2-4a79-b173-27d076f9e793",
   "metadata": {},
   "outputs": [
    {
     "name": "stdout",
     "output_type": "stream",
     "text": [
      "<class 'numpy.ndarray'>\n"
     ]
    }
   ],
   "source": [
    "#Turn an array into image\n",
    "from matplotlib.image import imread\n",
    "cat=imread(\"images/cat.jpg\")\n",
    "print(type(cat))"
   ]
  },
  {
   "cell_type": "markdown",
   "id": "412de747-39f9-4bfc-9f9a-80e7c1fec70e",
   "metadata": {},
   "source": [
    " <img src=\"./images/cat.jpg\"/>"
   ]
  },
  {
   "cell_type": "code",
   "execution_count": 202,
   "id": "2b09b73c-3517-4bf2-8792-5aa4433a36fc",
   "metadata": {},
   "outputs": [
    {
     "ename": "SyntaxError",
     "evalue": "invalid syntax (1090200444.py, line 1)",
     "output_type": "error",
     "traceback": [
      "\u001b[1;36m  Cell \u001b[1;32mIn[202], line 1\u001b[1;36m\u001b[0m\n\u001b[1;33m    <img src=\"./images/cat.jpg\"/>\u001b[0m\n\u001b[1;37m    ^\u001b[0m\n\u001b[1;31mSyntaxError\u001b[0m\u001b[1;31m:\u001b[0m invalid syntax\n"
     ]
    }
   ],
   "source": [
    " <img src=\"./images/cat.jpg\"/>"
   ]
  },
  {
   "cell_type": "markdown",
   "id": "6e1e647e-6fb6-4d5a-91b5-88c515d99fe0",
   "metadata": {},
   "source": [
    " <img src=\"./images/zayn.webp\"/>"
   ]
  },
  {
   "cell_type": "code",
   "execution_count": 203,
   "id": "a94a514f-5990-4bdd-b52e-70272446b129",
   "metadata": {},
   "outputs": [
    {
     "ename": "SyntaxError",
     "evalue": "invalid syntax (984320728.py, line 1)",
     "output_type": "error",
     "traceback": [
      "\u001b[1;36m  Cell \u001b[1;32mIn[203], line 1\u001b[1;36m\u001b[0m\n\u001b[1;33m    <img src=\"./images/bebu.webp\"/>\u001b[0m\n\u001b[1;37m    ^\u001b[0m\n\u001b[1;31mSyntaxError\u001b[0m\u001b[1;31m:\u001b[0m invalid syntax\n"
     ]
    }
   ],
   "source": [
    "<img src=\"./images/bebu.webp\"/>"
   ]
  },
  {
   "cell_type": "markdown",
   "id": "5dbe1c95-cc01-4d87-8086-15a008717836",
   "metadata": {},
   "source": [
    "<img src=\"./images/bebu.webp\"/>"
   ]
  },
  {
   "cell_type": "code",
   "execution_count": null,
   "id": "5b79ba85-f2a8-43da-8915-4169d0db52c0",
   "metadata": {},
   "outputs": [],
   "source": []
  }
 ],
 "metadata": {
  "kernelspec": {
   "display_name": "Python 3 (ipykernel)",
   "language": "python",
   "name": "python3"
  },
  "language_info": {
   "codemirror_mode": {
    "name": "ipython",
    "version": 3
   },
   "file_extension": ".py",
   "mimetype": "text/x-python",
   "name": "python",
   "nbconvert_exporter": "python",
   "pygments_lexer": "ipython3",
   "version": "3.8.18"
  }
 },
 "nbformat": 4,
 "nbformat_minor": 5
}
